{
 "cells": [
  {
   "cell_type": "code",
   "execution_count": 2,
   "id": "cfec1d39",
   "metadata": {},
   "outputs": [
    {
     "name": "stderr",
     "output_type": "stream",
     "text": [
      "Fetching SMILES:   7%|████▌                                                           | 19/270 [00:56<12:42,  3.04s/it]"
     ]
    },
    {
     "name": "stdout",
     "output_type": "stream",
     "text": [
      "Error retrieving Isomeric SMILES for CID 757: <urlopen error [WinError 10054] 远程主机强迫关闭了一个现有的连接。>\n"
     ]
    },
    {
     "name": "stderr",
     "output_type": "stream",
     "text": [
      "Fetching SMILES:   9%|█████▋                                                          | 24/270 [01:15<13:46,  3.36s/it]"
     ]
    },
    {
     "name": "stdout",
     "output_type": "stream",
     "text": [
      "Error retrieving Isomeric SMILES for CID 971: <urlopen error [WinError 10054] 远程主机强迫关闭了一个现有的连接。>\n"
     ]
    },
    {
     "name": "stderr",
     "output_type": "stream",
     "text": [
      "\r",
      "Fetching SMILES:   9%|█████▉                                                          | 25/270 [01:22<17:56,  4.39s/it]"
     ]
    },
    {
     "name": "stdout",
     "output_type": "stream",
     "text": [
      "Error retrieving Isomeric SMILES for CID 980: <urlopen error [WinError 10054] 远程主机强迫关闭了一个现有的连接。>\n"
     ]
    },
    {
     "name": "stderr",
     "output_type": "stream",
     "text": [
      "Fetching SMILES:  56%|███████████████████████████████████                            | 150/270 [07:33<06:07,  3.07s/it]"
     ]
    },
    {
     "name": "stdout",
     "output_type": "stream",
     "text": [
      "Error retrieving Isomeric SMILES for CID 8028: <urlopen error [WinError 10054] 远程主机强迫关闭了一个现有的连接。>\n"
     ]
    },
    {
     "name": "stderr",
     "output_type": "stream",
     "text": [
      "Fetching SMILES:  60%|█████████████████████████████████████▌                         | 161/270 [08:07<04:53,  2.70s/it]"
     ]
    },
    {
     "name": "stdout",
     "output_type": "stream",
     "text": [
      "Error retrieving Isomeric SMILES for CID 9025: <urlopen error [WinError 10054] 远程主机强迫关闭了一个现有的连接。>\n"
     ]
    },
    {
     "name": "stderr",
     "output_type": "stream",
     "text": [
      "Fetching SMILES:  73%|██████████████████████████████████████████████▏                | 198/270 [09:52<03:16,  2.73s/it]"
     ]
    },
    {
     "name": "stdout",
     "output_type": "stream",
     "text": [
      "Error retrieving Isomeric SMILES for CID 20824: <urlopen error [WinError 10054] 远程主机强迫关闭了一个现有的连接。>\n"
     ]
    },
    {
     "name": "stderr",
     "output_type": "stream",
     "text": [
      "Fetching SMILES:  95%|███████████████████████████████████████████████████████████▉   | 257/270 [12:40<00:35,  2.74s/it]"
     ]
    },
    {
     "name": "stdout",
     "output_type": "stream",
     "text": [
      "Error retrieving Isomeric SMILES for CID 11240513: <urlopen error [WinError 10054] 远程主机强迫关闭了一个现有的连接。>\n"
     ]
    },
    {
     "name": "stderr",
     "output_type": "stream",
     "text": [
      "Fetching SMILES: 100%|███████████████████████████████████████████████████████████████| 270/270 [13:20<00:00,  2.96s/it]"
     ]
    },
    {
     "name": "stdout",
     "output_type": "stream",
     "text": [
      "Updated Excel file saved as C:/Users/k/Desktop/硕士论文/SO4/SO4_240301/k_ORP/smiles1.xlsx\n"
     ]
    },
    {
     "name": "stderr",
     "output_type": "stream",
     "text": [
      "\n"
     ]
    }
   ],
   "source": [
    "import pandas as pd\n",
    "from pubchempy import get_compounds\n",
    "from tqdm import tqdm\n",
    "import time\n",
    "\n",
    "# 读取Excel表格数据\n",
    "excel_file = 'C:/Users/k/Desktop/硕士论文/SO4/SO4_240301/k_ORP/smiles.xlsx'\n",
    "sheet_name = 'Sheet1'\n",
    "df = pd.read_excel(excel_file, sheet_name=sheet_name)\n",
    "\n",
    "# 获取CID号列表\n",
    "cid_list = df['CID'].tolist()\n",
    "\n",
    "# 获取化合物的Isomeric SMILES\n",
    "smiles_list = []\n",
    "total_cids = len(cid_list)\n",
    "\n",
    "# 遍历CID号列表，并显示进度条\n",
    "for cid in tqdm(cid_list, total=total_cids, desc=\"Fetching SMILES\"):\n",
    "    try:\n",
    "        # 使用PubChem API根据CID号获取化合物\n",
    "        compound = get_compounds(cid, as_dataframe=False)\n",
    "        if compound:\n",
    "            # 获取化合物的Isomeric SMILES\n",
    "            isomeric_smiles = compound[0].isomeric_smiles\n",
    "            smiles_list.append(isomeric_smiles)\n",
    "        else:\n",
    "            smiles_list.append(None)\n",
    "    except Exception as e:\n",
    "        print(f\"Error retrieving Isomeric SMILES for CID {cid}: {e}\")\n",
    "        smiles_list.append(None)\n",
    "    \n",
    "    # 添加睡眠延迟，以减缓对API的请求速率\n",
    "    time.sleep(1)  # 休眠1秒\n",
    "\n",
    "# 将Isomeric SMILES填写到Excel表格的\"SMILES\"列\n",
    "df['SMILES'] = smiles_list\n",
    "\n",
    "# 保存更新后的Excel表格\n",
    "updated_excel_file = 'C:/Users/k/Desktop/硕士论文/SO4/SO4_240301/k_ORP/smiles1.xlsx'\n",
    "df.to_excel(updated_excel_file, index=False)\n",
    "print(f\"Updated Excel file saved as {updated_excel_file}\")\n"
   ]
  },
  {
   "cell_type": "code",
   "execution_count": null,
   "id": "fac9270e",
   "metadata": {},
   "outputs": [],
   "source": []
  }
 ],
 "metadata": {
  "kernelspec": {
   "display_name": "Python 3 (ipykernel)",
   "language": "python",
   "name": "python3"
  },
  "language_info": {
   "codemirror_mode": {
    "name": "ipython",
    "version": 3
   },
   "file_extension": ".py",
   "mimetype": "text/x-python",
   "name": "python",
   "nbconvert_exporter": "python",
   "pygments_lexer": "ipython3",
   "version": "3.11.4"
  }
 },
 "nbformat": 4,
 "nbformat_minor": 5
}
