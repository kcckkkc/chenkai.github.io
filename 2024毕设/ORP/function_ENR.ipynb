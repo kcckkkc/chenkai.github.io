{
 "cells": [
  {
   "cell_type": "raw",
   "id": "ac4e8810",
   "metadata": {},
   "source": [
    "import pandas as pd\n",
    "from sklearn.linear_model import ElasticNet\n",
    "from sklearn.metrics import mean_squared_error, r2_score\n",
    "from sklearn.model_selection import GridSearchCV\n",
    "from sklearn.preprocessing import StandardScaler\n",
    "from math import sqrt\n",
    "\n",
    "# 读取数据\n",
    "file_path_train = 'C:/Users/k/Desktop/硕士论文/ORP/ORP4/ORP_function_train.xlsx'\n",
    "sheet_name_train = 'Sheet1'\n",
    "data_train = pd.read_excel(file_path_train, sheet_name=sheet_name_train)\n",
    "y_train = data_train.iloc[:, -1]\n",
    "X_train = data_train.iloc[:, 1:-1]\n",
    "\n",
    "file_path_test = 'C:/Users/k/Desktop/硕士论文/ORP/ORP4/ORP_function_test.xlsx'\n",
    "sheet_name_test = 'Sheet1'\n",
    "data_test = pd.read_excel(file_path_test, sheet_name=sheet_name_test)\n",
    "y_test = data_test.iloc[:, -1]\n",
    "X_test = data_test.iloc[:, 1:-1]\n",
    "\n",
    "X_train_scaled = X_train\n",
    "X_test_scaled = X_test\n",
    "\n",
    "# 弹性网络回归模型\n",
    "elastic_net = ElasticNet(random_state=0)\n",
    "\n",
    "# 可以使用网格搜索来寻找最佳的alpha（正则化强度）和l1_ratio（L1和L2正则化之间的比例）\n",
    "parameters = {'alpha': [0.1, 0.5, 1, 2, 5, 10], 'l1_ratio': [0.2, 0.4, 0.6, 0.8]}\n",
    "\n",
    "grid_search = GridSearchCV(elastic_net, parameters, scoring='neg_mean_squared_error', cv=5)\n",
    "grid_search.fit(X_train_scaled, y_train)\n",
    "\n",
    "# 最佳参数和模型\n",
    "best_parameters = grid_search.best_params_\n",
    "best_model = grid_search.best_estimator_\n",
    "\n",
    "print(\"Best Parameters:\", best_parameters)\n",
    "\n",
    "# 在训练集和测试集上的预测\n",
    "y_train_pred = best_model.predict(X_train_scaled)\n",
    "y_test_pred = best_model.predict(X_test_scaled)\n",
    "\n",
    "# 计算和打印性能指标\n",
    "rmse_train = sqrt(mean_squared_error(y_train, y_train_pred))\n",
    "rmse_test = sqrt(mean_squared_error(y_test, y_test_pred))\n",
    "r2_train = r2_score(y_train, y_train_pred)\n",
    "r2_test = r2_score(y_test, y_test_pred)\n",
    "\n",
    "print(f'RMSE (Training): {rmse_train}')\n",
    "print(f'RMSE (Testing): {rmse_test}')\n",
    "print(f'R² (Training): {r2_train}')\n",
    "print(f'R² (Testing): {r2_test}')\n"
   ]
  },
  {
   "cell_type": "code",
   "execution_count": 1,
   "id": "2777c66c",
   "metadata": {},
   "outputs": [
    {
     "name": "stdout",
     "output_type": "stream",
     "text": [
      "RMSE (Training): 0.42380484995641254\n",
      "RMSE (Testing): 0.4901827006503472\n",
      "Equation of the model:\n",
      "y = 2.697800758560091 + (-0.14907502724869118) * X1 + (-0.024662143312068535) * X2 + (-0.09600144100109997) * X3 + (-0.11999921364376458) * X4 + (-0.004936855922813607) * X5 + (-0.41105273546215054) * X6 + (0.02588570193849684) * X7 + (0.08829825079686399) * X8 + (-0.08576542090642188) * X9 + (-0.2038577329437094) * X10 + (0.06504921129294565) * X11 + (0.12223562816692972) * X12 + (0.13504435097994874) * X13 + (-0.0453013763261941) * X14 + (0.02662730725394642) * X15 + (0.13575486745812657) * X16 + (-0.12324700904669593) * X17 + (0.08291470677887791) * X18 + (0.0) * X19 + (0.04222491047496284) * X20 + (0.0) * X21 + (-0.06829551104486184) * X22 + (-0.07517317814828603) * X23 + (0.0) * X24 + (-0.11486111417495824) * X25 + (-0.0017139004573443234) * X26 + (-0.0) * X27 + (-0.0) * X28 + (0.15099192451319493) * X29 + (0.0) * X30 + (0.004478794781683056) * X31\n",
      "Number of features used: 25\n"
     ]
    }
   ],
   "source": [
    "import pandas as pd\n",
    "from sklearn.linear_model import ElasticNet\n",
    "from sklearn.metrics import mean_squared_error\n",
    "from math import sqrt\n",
    "from sklearn.model_selection import GridSearchCV\n",
    "from sklearn.preprocessing import StandardScaler\n",
    "\n",
    "# 读取数据\n",
    "file_path_train = 'C:/Users/k/Desktop/硕士论文/ORP/ORP4/ORP_function_train.xlsx'\n",
    "sheet_name_train = 'Sheet1'\n",
    "data_train = pd.read_excel(file_path_train, sheet_name=sheet_name_train)\n",
    "y_train = data_train.iloc[:, -1]\n",
    "X_train = data_train.iloc[:, 1:-1]\n",
    "\n",
    "file_path_test = 'C:/Users/k/Desktop/硕士论文/ORP/ORP4/ORP_function_test.xlsx'\n",
    "sheet_name_test = 'Sheet1'\n",
    "data_test = pd.read_excel(file_path_test, sheet_name=sheet_name_test)\n",
    "y_test = data_test.iloc[:, -1]\n",
    "X_test = data_test.iloc[:, 1:-1]\n",
    "\n",
    "# 标准化特征（对于弹性网络回归很重要）\n",
    "\n",
    "X_train_scaled = X_train\n",
    "X_test_scaled = X_test\n",
    "\n",
    "# 弹性网络回归\n",
    "elastic_net = ElasticNet()\n",
    "\n",
    "# 选择最佳参数（可调整）\n",
    "param_grid = {\n",
    "    'alpha': [0.05,0.1, 0.5, 1, 2, 5,8,10],\n",
    "    'l1_ratio': [0.01,0.03,0.05,0.1, 0.3,0.5, 0.7, 0.9, 1]\n",
    "}\n",
    "\n",
    "# 使用网格搜索找到最佳参数\n",
    "grid_search = GridSearchCV(elastic_net, param_grid, cv=5)\n",
    "grid_search.fit(X_train_scaled, y_train)\n",
    "\n",
    "# 最佳参数\n",
    "best_alpha = grid_search.best_estimator_.alpha\n",
    "best_l1_ratio = grid_search.best_estimator_.l1_ratio\n",
    "\n",
    "# 使用最佳参数重新训练模型\n",
    "elastic_net_best = ElasticNet(alpha=best_alpha, l1_ratio=best_l1_ratio)\n",
    "elastic_net_best.fit(X_train_scaled, y_train)\n",
    "\n",
    "# 预测\n",
    "y_train_pred = elastic_net_best.predict(X_train_scaled)\n",
    "y_test_pred = elastic_net_best.predict(X_test_scaled)\n",
    "\n",
    "# 模型评估\n",
    "rmse_train = sqrt(mean_squared_error(y_train, y_train_pred))\n",
    "rmse_test = sqrt(mean_squared_error(y_test, y_test_pred))\n",
    "\n",
    "print(f'RMSE (Training): {rmse_train}')\n",
    "print(f'RMSE (Testing): {rmse_test}')\n",
    "\n",
    "# 输出模型系数\n",
    "coef = elastic_net_best.coef_\n",
    "\n",
    "# 输出等式\n",
    "equation = \"y = \" + str(elastic_net_best.intercept_)\n",
    "for i, c in enumerate(coef):\n",
    "    equation += f\" + ({c}) * X{i+1}\"\n",
    "\n",
    "print(\"Equation of the model:\")\n",
    "print(equation)\n",
    "\n",
    "# 输出使用到的特征变量数量\n",
    "print(\"Number of features used:\", sum(c != 0 for c in coef))"
   ]
  },
  {
   "cell_type": "code",
   "execution_count": 2,
   "id": "abf563d9",
   "metadata": {
    "scrolled": true
   },
   "outputs": [
    {
     "name": "stdout",
     "output_type": "stream",
     "text": [
      "R2 (Training): 0.726319983352018\n",
      "R2 (Testing): 0.6452371969387255\n",
      "MAPE (Training): 0.1691329442147229\n",
      "MAPE (Testing): 0.19020099026252826\n"
     ]
    }
   ],
   "source": [
    "from sklearn.metrics import r2_score, mean_absolute_percentage_error\n",
    "\n",
    "# 计算R2\n",
    "r2_train = r2_score(y_train, y_train_pred)\n",
    "r2_test = r2_score(y_test, y_test_pred)\n",
    "print(f'R2 (Training): {r2_train}')\n",
    "print(f'R2 (Testing): {r2_test}')\n",
    "\n",
    "# 计算MAPE\n",
    "mape_train = mean_absolute_percentage_error(y_train, y_train_pred)\n",
    "mape_test = mean_absolute_percentage_error(y_test, y_test_pred)\n",
    "print(f'MAPE (Training): {mape_train}')\n",
    "print(f'MAPE (Testing): {mape_test}')"
   ]
  },
  {
   "cell_type": "code",
   "execution_count": 3,
   "id": "408740d5",
   "metadata": {},
   "outputs": [
    {
     "name": "stdout",
     "output_type": "stream",
     "text": [
      "Adjusted R² (Training): 0.6788060915728544\n",
      "Adjusted R² (Testing): 0.22290052662768445\n"
     ]
    }
   ],
   "source": [
    "import numpy as np\n",
    "\n",
    "def adjusted_r_squared(r_squared, n, k):\n",
    "    return 1 - (1 - r_squared) * (n - 1) / (n - k - 1)\n",
    "\n",
    "def calc_r_squared(y, y_pred):\n",
    "    ss_res = np.sum((y - y_pred) ** 2)\n",
    "    ss_tot = np.sum((y - np.mean(y)) ** 2)\n",
    "    r_squared = 1 - (ss_res / ss_tot)\n",
    "    return r_squared\n",
    "\n",
    "# 计算R²值\n",
    "r_squared_train = calc_r_squared(y_train, y_train_pred)\n",
    "r_squared_test = calc_r_squared(y_test, y_test_pred)\n",
    "\n",
    "# 计算使用的特征数量（非零系数）\n",
    "num_features = sum(c != 0 for c in elastic_net_best.coef_)\n",
    "\n",
    "# 样本数量\n",
    "n_train = X_train.shape[0]\n",
    "n_test = X_test.shape[0]\n",
    "\n",
    "# 计算校正后的R²\n",
    "adj_r_squared_train = adjusted_r_squared(r_squared_train, n_train, num_features)\n",
    "adj_r_squared_test = adjusted_r_squared(r_squared_test, n_test, num_features)\n",
    "\n",
    "print(f'Adjusted R² (Training): {adj_r_squared_train}')\n",
    "print(f'Adjusted R² (Testing): {adj_r_squared_test}')\n"
   ]
  },
  {
   "cell_type": "code",
   "execution_count": 4,
   "id": "2bd499ca",
   "metadata": {},
   "outputs": [
    {
     "data": {
      "text/plain": [
       "25"
      ]
     },
     "execution_count": 4,
     "metadata": {},
     "output_type": "execute_result"
    }
   ],
   "source": [
    "num_features"
   ]
  },
  {
   "cell_type": "code",
   "execution_count": 5,
   "id": "70d61480",
   "metadata": {},
   "outputs": [
    {
     "data": {
      "text/plain": [
       "0.726319983352018"
      ]
     },
     "execution_count": 5,
     "metadata": {},
     "output_type": "execute_result"
    }
   ],
   "source": [
    "r_squared_train"
   ]
  },
  {
   "cell_type": "code",
   "execution_count": 6,
   "id": "33fbc529",
   "metadata": {},
   "outputs": [
    {
     "data": {
      "text/plain": [
       "0.6452371969387255"
      ]
     },
     "execution_count": 6,
     "metadata": {},
     "output_type": "execute_result"
    }
   ],
   "source": [
    "r_squared_test"
   ]
  },
  {
   "cell_type": "code",
   "execution_count": 7,
   "id": "0f4b2f70",
   "metadata": {},
   "outputs": [
    {
     "data": {
      "text/plain": [
       "0.1"
      ]
     },
     "execution_count": 7,
     "metadata": {},
     "output_type": "execute_result"
    }
   ],
   "source": [
    "best_alpha\n"
   ]
  },
  {
   "cell_type": "code",
   "execution_count": 8,
   "id": "1cd70f61",
   "metadata": {},
   "outputs": [
    {
     "data": {
      "text/plain": [
       "0.01"
      ]
     },
     "execution_count": 8,
     "metadata": {},
     "output_type": "execute_result"
    }
   ],
   "source": [
    "best_l1_ratio"
   ]
  },
  {
   "cell_type": "code",
   "execution_count": 10,
   "id": "1c79a888",
   "metadata": {},
   "outputs": [
    {
     "name": "stdout",
     "output_type": "stream",
     "text": [
      "5次交叉验证的RMSE： [0.46043097 0.50420065 0.60264137 0.47076497 0.42547837 0.43308072\n",
      " 0.40578195 0.37116875 0.48632666 0.48535609]\n",
      "平均RMSE： 0.46452305065149674\n"
     ]
    }
   ],
   "source": [
    "from sklearn.model_selection import cross_val_score\n",
    "import numpy as np\n",
    "from sklearn.model_selection import KFold\n",
    "\n",
    "kf = KFold(n_splits=10, shuffle=True, random_state=99)\n",
    "# 执行10次交叉验证\n",
    "mse_scores = cross_val_score(elastic_net_best, X_train, y_train, scoring='neg_mean_squared_error', cv=kf)\n",
    "\n",
    "# 将负MSE转换为RMSE\n",
    "rmse_scores = np.sqrt(-mse_scores)\n",
    "\n",
    "# 输出每次交叉验证的RMSE\n",
    "print(\"10次交叉验证的RMSE：\", rmse_scores)\n",
    "\n",
    "# 输出5次交叉验证的平均RMSE\n",
    "print(\"平均RMSE：\", np.mean(rmse_scores))"
   ]
  },
  {
   "cell_type": "code",
   "execution_count": null,
   "id": "b0f0449e",
   "metadata": {},
   "outputs": [],
   "source": []
  }
 ],
 "metadata": {
  "kernelspec": {
   "display_name": "Python 3 (ipykernel)",
   "language": "python",
   "name": "python3"
  },
  "language_info": {
   "codemirror_mode": {
    "name": "ipython",
    "version": 3
   },
   "file_extension": ".py",
   "mimetype": "text/x-python",
   "name": "python",
   "nbconvert_exporter": "python",
   "pygments_lexer": "ipython3",
   "version": "3.11.4"
  }
 },
 "nbformat": 4,
 "nbformat_minor": 5
}
