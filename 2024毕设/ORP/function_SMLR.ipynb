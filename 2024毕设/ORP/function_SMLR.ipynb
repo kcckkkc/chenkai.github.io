{
 "cells": [
  {
   "cell_type": "code",
   "execution_count": 10,
   "id": "9dccbc59",
   "metadata": {},
   "outputs": [
    {
     "name": "stdout",
     "output_type": "stream",
     "text": [
      "Add  const                          with p-value 4.96006e-83\n",
      "Add  F                              with p-value 2.81073e-18\n",
      "Add  ar                             with p-value 4.32976e-13\n",
      "Add  -CH3                           with p-value 3.01114e-09\n",
      "Add  -NH2                           with p-value 0.00453891\n",
      "Add  C-ar                           with p-value 0.00590145\n",
      "Add  ring N                         with p-value 0.00712312\n",
      "Add  -C=C-                          with p-value 0.00612651\n",
      "resulting features:\n",
      "['const', 'F', 'ar', '-CH3', '-NH2', 'C-ar', 'ring N', '-C=C-']\n",
      "Adjusted R² (Training): 0.6755548751258742\n",
      "Adjusted R² (Testing): 0.5380171606808368\n",
      "RMSE (Training): 0.45178224582131266\n",
      "RMSE (Testing): 0.5084107743970273\n"
     ]
    }
   ],
   "source": [
    "import pandas as pd\n",
    "import numpy as np\n",
    "import statsmodels.api as sm\n",
    "from sklearn.metrics import mean_squared_error\n",
    "from math import sqrt\n",
    "\n",
    "# 读取数据\n",
    "file_path_train = 'C:/Users/k/Desktop/硕士论文/ORP/ORP4/ORP_function_train.xlsx'\n",
    "sheet_name_train = 'Sheet1'\n",
    "data_train = pd.read_excel(file_path_train, sheet_name=sheet_name_train)\n",
    "y_train = data_train.iloc[:, -1]\n",
    "X_train = data_train.iloc[:, 1:-1]\n",
    "\n",
    "file_path_test = 'C:/Users/k/Desktop/硕士论文/ORP/ORP4/ORP_function_test.xlsx'\n",
    "sheet_name_test = 'Sheet1'\n",
    "data_test = pd.read_excel(file_path_test, sheet_name=sheet_name_test)\n",
    "y_test = data_test.iloc[:, -1]\n",
    "X_test = data_test.iloc[:, 1:-1]\n",
    "\n",
    "# 添加常数项以便拟合截距\n",
    "X_train = sm.add_constant(X_train)\n",
    "X_test = sm.add_constant(X_test)\n",
    "\n",
    "# 逐步回归\n",
    "def stepwise_selection(X, y, \n",
    "                       initial_list=[], \n",
    "                       threshold_in=0.01, \n",
    "                       threshold_out = 0.05, \n",
    "                       verbose=True):\n",
    "    included = list(initial_list)\n",
    "    while True:\n",
    "        changed=False\n",
    "        # forward step\n",
    "        excluded = list(set(X.columns)-set(included))\n",
    "        new_pval = pd.Series(index=excluded)\n",
    "        for new_column in excluded:\n",
    "            model = sm.OLS(y, sm.add_constant(pd.DataFrame(X[included+[new_column]]))).fit()\n",
    "            new_pval[new_column] = model.pvalues[new_column]\n",
    "        best_pval = new_pval.min()\n",
    "        if best_pval < threshold_in:\n",
    "            best_feature = new_pval.idxmin()\n",
    "            included.append(best_feature)\n",
    "            changed=True\n",
    "            if verbose:\n",
    "                print('Add  {:30} with p-value {:.6}'.format(best_feature, best_pval))\n",
    "\n",
    "        # backward step\n",
    "        model = sm.OLS(y, sm.add_constant(pd.DataFrame(X[included]))).fit()\n",
    "        # use all coefs except intercept\n",
    "        pvalues = model.pvalues.iloc[1:]\n",
    "        worst_pval = pvalues.max() # null if pvalues is empty\n",
    "        if worst_pval > threshold_out:\n",
    "            changed=True\n",
    "            worst_feature = pvalues.idxmax()\n",
    "            included.remove(worst_feature)\n",
    "            if verbose:\n",
    "                print('Drop {:30} with p-value {:.6}'.format(worst_feature, worst_pval))\n",
    "        if not changed:\n",
    "            break\n",
    "    return included\n",
    "\n",
    "result = stepwise_selection(X_train, y_train)\n",
    "\n",
    "print('resulting features:')\n",
    "print(result)\n",
    "\n",
    "# 使用选定的特征训练模型\n",
    "X_train_s = sm.add_constant(X_train[result])\n",
    "X_test_s = sm.add_constant(X_test[result])\n",
    "\n",
    "model = sm.OLS(y_train, X_train_s).fit()\n",
    "\n",
    "# 在训练集和测试集上的预测\n",
    "y_train_pred = model.predict(X_train_s)\n",
    "y_test_pred = model.predict(X_test_s)\n",
    "\n",
    "# 计算校正后R²和RMSE\n",
    "def adjusted_r_squared(r_squared, n, k):\n",
    "    return 1 - (1 - r_squared) * (n - 1) / (n - k - 1)\n",
    "\n",
    "def calc_r_squared(y, y_pred):\n",
    "    ss_res = np.sum((y - y_pred) ** 2)\n",
    "    ss_tot = np.sum((y - np.mean(y)) ** 2)\n",
    "    r_squared = 1 - (ss_res / ss_tot)\n",
    "    return r_squared\n",
    "\n",
    "n_train = X_train.shape[0]\n",
    "k_train = len(result)-1\n",
    "r_squared_train = model.rsquared\n",
    "adj_r_squared_train = adjusted_r_squared(r_squared_train, n_train, k_train)\n",
    "\n",
    "r_squared_test = calc_r_squared(y_test, y_test_pred)\n",
    "adj_r_squared_test = adjusted_r_squared(r_squared_test, n_test, k_test)\n",
    "\n",
    "rmse_train = sqrt(mean_squared_error(y_train, y_train_pred))\n",
    "rmse_test = sqrt(mean_squared_error(y_test, y_test_pred))\n",
    "\n",
    "print(f'Adjusted R² (Training): {adj_r_squared_train}')\n",
    "print(f'Adjusted R² (Testing): {adj_r_squared_test}')\n",
    "print(f'RMSE (Training): {rmse_train}')\n",
    "print(f'RMSE (Testing): {rmse_test}')"
   ]
  },
  {
   "cell_type": "code",
   "execution_count": 11,
   "id": "f7b8d8b8",
   "metadata": {},
   "outputs": [
    {
     "name": "stdout",
     "output_type": "stream",
     "text": [
      "                            OLS Regression Results                            \n",
      "==============================================================================\n",
      "Dep. Variable:                      E   R-squared:                       0.689\n",
      "Model:                            OLS   Adj. R-squared:                  0.676\n",
      "Method:                 Least Squares   F-statistic:                     51.27\n",
      "Date:                Fri, 23 Feb 2024   Prob (F-statistic):           6.15e-38\n",
      "Time:                        12:49:36   Log-Likelihood:                -106.15\n",
      "No. Observations:                 170   AIC:                             228.3\n",
      "Df Residuals:                     162   BIC:                             253.4\n",
      "Df Model:                           7                                         \n",
      "Covariance Type:            nonrobust                                         \n",
      "==============================================================================\n",
      "                 coef    std err          t      P>|t|      [0.025      0.975]\n",
      "------------------------------------------------------------------------------\n",
      "const          2.9614      0.074     39.820      0.000       2.815       3.108\n",
      "F              0.1474      0.017      8.498      0.000       0.113       0.182\n",
      "ar            -0.7595      0.070    -10.873      0.000      -0.897      -0.622\n",
      "-CH3          -0.2040      0.032     -6.311      0.000      -0.268      -0.140\n",
      "-NH2          -0.2328      0.070     -3.305      0.001      -0.372      -0.094\n",
      "C-ar           0.1534      0.054      2.853      0.005       0.047       0.260\n",
      "ring N        -0.1369      0.042     -3.256      0.001      -0.220      -0.054\n",
      "-C=C-         -0.3527      0.127     -2.777      0.006      -0.603      -0.102\n",
      "==============================================================================\n",
      "Omnibus:                        2.221   Durbin-Watson:                   2.113\n",
      "Prob(Omnibus):                  0.329   Jarque-Bera (JB):                2.240\n",
      "Skew:                          -0.232   Prob(JB):                        0.326\n",
      "Kurtosis:                       2.684   Cond. No.                         8.47\n",
      "==============================================================================\n",
      "\n",
      "Notes:\n",
      "[1] Standard Errors assume that the covariance matrix of the errors is correctly specified.\n"
     ]
    }
   ],
   "source": [
    "# 打印回归结果摘要\n",
    "print(model.summary())"
   ]
  },
  {
   "cell_type": "code",
   "execution_count": 12,
   "id": "2cc88837",
   "metadata": {},
   "outputs": [
    {
     "data": {
      "text/plain": [
       "0.6183620023015608"
      ]
     },
     "execution_count": 12,
     "metadata": {},
     "output_type": "execute_result"
    }
   ],
   "source": [
    "r_squared_test"
   ]
  },
  {
   "cell_type": "code",
   "execution_count": null,
   "id": "a7f71076",
   "metadata": {},
   "outputs": [],
   "source": []
  }
 ],
 "metadata": {
  "kernelspec": {
   "display_name": "Python 3 (ipykernel)",
   "language": "python",
   "name": "python3"
  },
  "language_info": {
   "codemirror_mode": {
    "name": "ipython",
    "version": 3
   },
   "file_extension": ".py",
   "mimetype": "text/x-python",
   "name": "python",
   "nbconvert_exporter": "python",
   "pygments_lexer": "ipython3",
   "version": "3.11.4"
  }
 },
 "nbformat": 4,
 "nbformat_minor": 5
}
