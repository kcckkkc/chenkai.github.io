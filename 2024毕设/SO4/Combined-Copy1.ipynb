{
 "cells": [
  {
   "cell_type": "code",
   "execution_count": 1,
   "id": "cc1dd238",
   "metadata": {},
   "outputs": [
    {
     "data": {
      "text/plain": [
       "0      聚类1\n",
       "1      聚类5\n",
       "2      聚类5\n",
       "3      聚类0\n",
       "4      聚类5\n",
       "      ... \n",
       "265    聚类3\n",
       "266    聚类3\n",
       "267    聚类8\n",
       "268    聚类8\n",
       "269    聚类8\n",
       "Name: 聚类, Length: 270, dtype: object"
      ]
     },
     "execution_count": 1,
     "metadata": {},
     "output_type": "execute_result"
    }
   ],
   "source": [
    "import numpy as np\n",
    "import pandas as pd\n",
    "from sklearn.model_selection import train_test_split\n",
    "\n",
    "file_path = 'C:/Users/k/Desktop/硕士论文/SO4/SO4_240301/quantum/SO4_quantum_240301_1.xlsx'\n",
    "sheet_name = 'Sheet1'\n",
    "data = pd.read_excel(file_path, sheet_name=sheet_name)\n",
    "classification = data.iloc[:, -1]\n",
    "classification\n"
   ]
  },
  {
   "cell_type": "code",
   "execution_count": 2,
   "id": "e23a7a8d",
   "metadata": {},
   "outputs": [],
   "source": [
    "# 划分训练集和测试集\n",
    "train_sets = []\n",
    "\n",
    "test_sets = []\n",
    "\n",
    "unique_classes = classification.unique()\n",
    "for cls in unique_classes:\n",
    "    cls_data = data[classification == cls]\n",
    "    X_cls = cls_data.iloc[:, 0:-2]\n",
    "    y_cls = cls_data.iloc[:, -2]\n",
    "    \n",
    "    X_train_temp, X_test, y_train_temp, y_test = train_test_split(X_cls, y_cls, test_size=0.2, random_state=42)\n",
    "    \n",
    "    train_sets.append((X_train_temp, y_train_temp))\n",
    "   \n",
    "    test_sets.append((X_test, y_test))\n",
    "\n",
    "# 将所有类别的数据组合成合并的训练集、验证集和测试集\n",
    "X_train_combined = pd.concat([X_train for X_train, _ in train_sets])\n",
    "y_train_combined = pd.concat([y_train for _, y_train in train_sets])\n",
    "\n",
    "X_test_combined = pd.concat([X_test for X_test, _ in test_sets])\n",
    "y_test_combined = pd.concat([y_test for _, y_test in test_sets])\n",
    "\n"
   ]
  },
  {
   "cell_type": "code",
   "execution_count": 3,
   "id": "3665e945",
   "metadata": {},
   "outputs": [
    {
     "name": "stdout",
     "output_type": "stream",
     "text": [
      "训练集已保存到 C:/Users/k/Desktop/硕士论文/SO4/SO4_240301/quantum/train.xlsx\n"
     ]
    }
   ],
   "source": [
    "# 继续写代码\n",
    "\n",
    "# 合并训练集数据\n",
    "combined_train_data = pd.concat([X_train_combined, y_train_combined], axis=1)\n",
    "\n",
    "# 定义要保存的Excel文件路径\n",
    "output_file_path = 'C:/Users/k/Desktop/硕士论文/SO4/SO4_240301/quantum/train.xlsx'\n",
    "\n",
    "# 将合并的训练集数据保存到Excel文件\n",
    "combined_train_data.to_excel(output_file_path, index=False)\n",
    "\n",
    "print(f\"训练集已保存到 {output_file_path}\")\n"
   ]
  },
  {
   "cell_type": "code",
   "execution_count": 4,
   "id": "7832b269",
   "metadata": {},
   "outputs": [
    {
     "name": "stdout",
     "output_type": "stream",
     "text": [
      "训练集已保存到 C:/Users/k/Desktop/硕士论文/SO4/SO4_240301/quantum/test.xlsx\n"
     ]
    }
   ],
   "source": [
    "# 继续写代码\n",
    "\n",
    "# 合并训练集数据\n",
    "combined_train_data = pd.concat([X_test_combined, y_test_combined], axis=1)\n",
    "\n",
    "# 定义要保存的Excel文件路径\n",
    "output_file_path = 'C:/Users/k/Desktop/硕士论文/SO4/SO4_240301/quantum/test.xlsx'\n",
    "\n",
    "# 将合并的训练集数据保存到Excel文件\n",
    "combined_train_data.to_excel(output_file_path, index=False)\n",
    "\n",
    "print(f\"训练集已保存到 {output_file_path}\")\n"
   ]
  },
  {
   "cell_type": "code",
   "execution_count": null,
   "id": "0e058470",
   "metadata": {},
   "outputs": [],
   "source": []
  }
 ],
 "metadata": {
  "kernelspec": {
   "display_name": "Python 3 (ipykernel)",
   "language": "python",
   "name": "python3"
  },
  "language_info": {
   "codemirror_mode": {
    "name": "ipython",
    "version": 3
   },
   "file_extension": ".py",
   "mimetype": "text/x-python",
   "name": "python",
   "nbconvert_exporter": "python",
   "pygments_lexer": "ipython3",
   "version": "3.11.4"
  }
 },
 "nbformat": 4,
 "nbformat_minor": 5
}
