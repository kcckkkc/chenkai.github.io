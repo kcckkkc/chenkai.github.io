{
 "cells": [
  {
   "cell_type": "code",
   "execution_count": 8,
   "id": "fee44c96",
   "metadata": {},
   "outputs": [
    {
     "data": {
      "text/plain": [
       "341.661961014276"
      ]
     },
     "execution_count": 8,
     "metadata": {},
     "output_type": "execute_result"
    }
   ],
   "source": [
    "from scipy.spatial.distance import euclidean\n",
    "\n",
    "import pandas as pd\n",
    "file_path = 'C:/Users/k/Desktop/硕士论文/SO4/SO4_240301/quantum/train.xlsx'\n",
    "sheet_name = 'Sheet1'\n",
    "data = pd.read_excel(file_path, sheet_name=sheet_name)\n",
    "\n",
    "# Extracting the feature columns (assuming all columns except 'CID' and 'lgk' are features)\n",
    "features = data.columns.drop(['CID', 'lgk'])\n",
    "\n",
    "# Extracting the feature values for the first two compounds\n",
    "compound_1 = data.loc[0, features]\n",
    "compound_2 = data.loc[1, features]\n",
    "\n",
    "# Calculating the Euclidean distance between the first two compounds\n",
    "euclidean_distance = euclidean(compound_1, compound_2)\n",
    "euclidean_distance\n"
   ]
  },
  {
   "cell_type": "code",
   "execution_count": 9,
   "id": "d722f0cc",
   "metadata": {},
   "outputs": [
    {
     "data": {
      "text/plain": [
       "EHUMO                          -0.257060\n",
       "ELUMO                           0.039810\n",
       "Egap                            0.296870\n",
       "Dipole                          1.704600\n",
       "Energy                       -273.056682\n",
       "f-max                           0.290000\n",
       "f-min                           0.017300\n",
       "f+max                           0.078700\n",
       "f+min                           0.007500\n",
       "f0max                           0.155200\n",
       "f0min                           0.019400\n",
       "Vertical EA                    -0.093422\n",
       "Softness                        2.299242\n",
       "Electrophilicity index          0.017688\n",
       "Mulliken electronegativity     -0.124041\n",
       "Vertical IP                     0.341504\n",
       "Chemical potential              0.124041\n",
       "Hardness                        0.434926\n",
       "Nucleophilicity index           0.082311\n",
       "Cmax                           -0.012411\n",
       "Cmin                           -0.265392\n",
       "Hmax                            0.115162\n",
       "Hmin                            0.097884\n",
       "Name: 0, dtype: float64"
      ]
     },
     "execution_count": 9,
     "metadata": {},
     "output_type": "execute_result"
    }
   ],
   "source": [
    "compound_1"
   ]
  },
  {
   "cell_type": "code",
   "execution_count": 10,
   "id": "9a1b10a3",
   "metadata": {},
   "outputs": [
    {
     "data": {
      "text/plain": [
       "630.696341930554"
      ]
     },
     "execution_count": 10,
     "metadata": {},
     "output_type": "execute_result"
    }
   ],
   "source": [
    "from itertools import combinations\n",
    "import numpy as np\n",
    "\n",
    "# Extracting feature values for all compounds\n",
    "feature_values = data[features].values\n",
    "\n",
    "# Calculating all pairwise Euclidean distances\n",
    "distances = [euclidean(feature_values[i], feature_values[j]) for i, j in combinations(range(len(feature_values)), 2)]\n",
    "\n",
    "# Calculating the average of these distances\n",
    "average_distance = np.mean(distances)\n",
    "average_distance\n"
   ]
  },
  {
   "cell_type": "code",
   "execution_count": 11,
   "id": "cacdbcf4",
   "metadata": {},
   "outputs": [
    {
     "data": {
      "text/plain": [
       "(282.7760802827772, 179.78403207971974)"
      ]
     },
     "execution_count": 11,
     "metadata": {},
     "output_type": "execute_result"
    }
   ],
   "source": [
    "# Filtering out distances that are less than the average value of 630.70\n",
    "filtered_distances = [d for d in distances if d < average_distance]\n",
    "\n",
    "# Calculating the average (Δ) and standard deviation (σ) of the filtered dataset\n",
    "delta = np.mean(filtered_distances)\n",
    "sigma = np.std(filtered_distances)\n",
    "\n",
    "delta, sigma\n"
   ]
  },
  {
   "cell_type": "code",
   "execution_count": 12,
   "id": "b640c069",
   "metadata": {},
   "outputs": [
    {
     "data": {
      "text/plain": [
       "372.66809632263704"
      ]
     },
     "execution_count": 12,
     "metadata": {},
     "output_type": "execute_result"
    }
   ],
   "source": [
    "APD=delta+0.5*sigma\n",
    "APD"
   ]
  },
  {
   "cell_type": "code",
   "execution_count": 13,
   "id": "5cff51e0",
   "metadata": {},
   "outputs": [
    {
     "data": {
      "text/plain": [
       "106.12965010721268"
      ]
     },
     "execution_count": 13,
     "metadata": {},
     "output_type": "execute_result"
    }
   ],
   "source": [
    "# Loading the test dataset from the provided Excel file\n",
    "test_file_path = 'C:/Users/k/Desktop/硕士论文/SO4/SO4_240301/quantum/test.xlsx'\n",
    "test_data = pd.read_excel(test_file_path)\n",
    "\n",
    "# Extracting the feature values for the test dataset\n",
    "test_feature_values = test_data[features].values\n",
    "\n",
    "# Function to calculate the minimum distance between a test compound and all training compounds\n",
    "def min_distance_to_train(test_compound, train_feature_values):\n",
    "    distances_to_train = [euclidean(test_compound, train_compound) for train_compound in train_feature_values]\n",
    "    return min(distances_to_train)\n",
    "\n",
    "# Calculating the minimum distance to the nearest training compound for each test compound\n",
    "min_distances = [min_distance_to_train(test_compound, feature_values) for test_compound in test_feature_values]\n",
    "\n",
    "# Finding the maximum of these minimum distances\n",
    "max_of_min_distances = max(min_distances)\n",
    "max_of_min_distances\n"
   ]
  },
  {
   "cell_type": "code",
   "execution_count": null,
   "id": "5108ead7",
   "metadata": {},
   "outputs": [],
   "source": []
  }
 ],
 "metadata": {
  "kernelspec": {
   "display_name": "Python 3 (ipykernel)",
   "language": "python",
   "name": "python3"
  },
  "language_info": {
   "codemirror_mode": {
    "name": "ipython",
    "version": 3
   },
   "file_extension": ".py",
   "mimetype": "text/x-python",
   "name": "python",
   "nbconvert_exporter": "python",
   "pygments_lexer": "ipython3",
   "version": "3.11.4"
  }
 },
 "nbformat": 4,
 "nbformat_minor": 5
}
