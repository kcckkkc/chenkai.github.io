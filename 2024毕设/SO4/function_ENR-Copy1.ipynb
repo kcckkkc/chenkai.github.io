{
 "cells": [
  {
   "cell_type": "code",
   "execution_count": 1,
   "id": "2777c66c",
   "metadata": {},
   "outputs": [
    {
     "name": "stdout",
     "output_type": "stream",
     "text": [
      "RMSE (Training): 0.8092910210348832\n",
      "RMSE (Testing): 0.8113183798109083\n",
      "Equation of the model:\n",
      "y = 8.203653711324849 + (0.14393337238809623) * X1 + (-0.01274934252872996) * X2 + (0.11712161424483067) * X3 + (0.0) * X4 + (0.0) * X5 + (0.5307517862365262) * X6 + (0.08632539974491446) * X7 + (-0.0) * X8 + (0.0) * X9 + (0.0) * X10 + (-0.0) * X11 + (-0.19314786664342318) * X12 + (-0.0) * X13 + (0.017354027989226868) * X14 + (-0.36556728556541984) * X15 + (0.0) * X16 + (0.0) * X17 + (0.0) * X18 + (0.0) * X19 + (0.0) * X20 + (0.19518555073729477) * X21 + (0.16628001504130013) * X22 + (0.0) * X23 + (0.0) * X24 + (0.11148982791833636) * X25 + (-0.0) * X26 + (0.0) * X27 + (0.0) * X28 + (-0.24606700579102628) * X29 + (0.0) * X30 + (0.0) * X31\n",
      "Number of features used: 12\n"
     ]
    }
   ],
   "source": [
    "import pandas as pd\n",
    "from sklearn.linear_model import ElasticNet\n",
    "from sklearn.metrics import mean_squared_error\n",
    "from math import sqrt\n",
    "from sklearn.model_selection import GridSearchCV\n",
    "from sklearn.preprocessing import StandardScaler\n",
    "\n",
    "file_path = 'C:/Users/k/Desktop/硕士论文/SO4/SO4_240301/function/train.xlsx'\n",
    "sheet_name = 'Sheet1'\n",
    "data = pd.read_excel(file_path, sheet_name=sheet_name)\n",
    "y_train = data.iloc[:, -1]\n",
    "X_train = data.iloc[:, 1:-1]\n",
    "\n",
    "file_path = 'C:/Users/k/Desktop/硕士论文/SO4/SO4_240301/function/test.xlsx'\n",
    "sheet_name = 'Sheet1'\n",
    "data = pd.read_excel(file_path, sheet_name=sheet_name)\n",
    "y_test = data.iloc[:, -1]\n",
    "X_test = data.iloc[:, 1:-1]\n",
    "\n",
    "# 标准化特征（对于弹性网络回归很重要）\n",
    "\n",
    "X_train_scaled = X_train\n",
    "X_test_scaled = X_test\n",
    "\n",
    "# 弹性网络回归\n",
    "elastic_net = ElasticNet()\n",
    "\n",
    "# 选择最佳参数（可调整）\n",
    "param_grid = {\n",
    "    'alpha': [0.05,0.1, 0.5, 1, 2, 5,8,10],\n",
    "    'l1_ratio': [0.01,0.03,0.05,0.1, 0.3,0.5, 0.7, 0.9, 1]\n",
    "}\n",
    "\n",
    "# 使用网格搜索找到最佳参数\n",
    "grid_search = GridSearchCV(elastic_net, param_grid, cv=5)\n",
    "grid_search.fit(X_train_scaled, y_train)\n",
    "\n",
    "# 最佳参数\n",
    "best_alpha = grid_search.best_estimator_.alpha\n",
    "best_l1_ratio = grid_search.best_estimator_.l1_ratio\n",
    "\n",
    "# 使用最佳参数重新训练模型\n",
    "elastic_net_best = ElasticNet(alpha=best_alpha, l1_ratio=best_l1_ratio)\n",
    "elastic_net_best.fit(X_train_scaled, y_train)\n",
    "\n",
    "# 预测\n",
    "y_train_pred = elastic_net_best.predict(X_train_scaled)\n",
    "y_test_pred = elastic_net_best.predict(X_test_scaled)\n",
    "\n",
    "# 模型评估\n",
    "rmse_train = sqrt(mean_squared_error(y_train, y_train_pred))\n",
    "rmse_test = sqrt(mean_squared_error(y_test, y_test_pred))\n",
    "\n",
    "print(f'RMSE (Training): {rmse_train}')\n",
    "print(f'RMSE (Testing): {rmse_test}')\n",
    "\n",
    "# 输出模型系数\n",
    "coef = elastic_net_best.coef_\n",
    "\n",
    "# 输出等式\n",
    "equation = \"y = \" + str(elastic_net_best.intercept_)\n",
    "for i, c in enumerate(coef):\n",
    "    equation += f\" + ({c}) * X{i+1}\"\n",
    "\n",
    "print(\"Equation of the model:\")\n",
    "print(equation)\n",
    "\n",
    "# 输出使用到的特征变量数量\n",
    "print(\"Number of features used:\", sum(c != 0 for c in coef))"
   ]
  },
  {
   "cell_type": "code",
   "execution_count": 2,
   "id": "abf563d9",
   "metadata": {
    "scrolled": true
   },
   "outputs": [
    {
     "name": "stdout",
     "output_type": "stream",
     "text": [
      "R2 (Training): 0.6181211423468209\n",
      "R2 (Testing): 0.6565037695626632\n",
      "MAPE (Training): 0.08514438347761273\n",
      "MAPE (Testing): 0.08271272941151854\n"
     ]
    }
   ],
   "source": [
    "from sklearn.metrics import r2_score, mean_absolute_percentage_error\n",
    "\n",
    "# 计算R2\n",
    "r2_train = r2_score(y_train, y_train_pred)\n",
    "r2_test = r2_score(y_test, y_test_pred)\n",
    "print(f'R2 (Training): {r2_train}')\n",
    "print(f'R2 (Testing): {r2_test}')\n",
    "\n",
    "# 计算MAPE\n",
    "mape_train = mean_absolute_percentage_error(y_train, y_train_pred)\n",
    "mape_test = mean_absolute_percentage_error(y_test, y_test_pred)\n",
    "print(f'MAPE (Training): {mape_train}')\n",
    "print(f'MAPE (Testing): {mape_test}')"
   ]
  },
  {
   "cell_type": "code",
   "execution_count": 3,
   "id": "408740d5",
   "metadata": {},
   "outputs": [
    {
     "name": "stdout",
     "output_type": "stream",
     "text": [
      "Adjusted R² (Training): 0.595093271533564\n",
      "Adjusted R² (Testing): 0.5649047747793734\n"
     ]
    }
   ],
   "source": [
    "import numpy as np\n",
    "\n",
    "def adjusted_r_squared(r_squared, n, k):\n",
    "    return 1 - (1 - r_squared) * (n - 1) / (n - k - 1)\n",
    "\n",
    "def calc_r_squared(y, y_pred):\n",
    "    ss_res = np.sum((y - y_pred) ** 2)\n",
    "    ss_tot = np.sum((y - np.mean(y)) ** 2)\n",
    "    r_squared = 1 - (ss_res / ss_tot)\n",
    "    return r_squared\n",
    "\n",
    "# 计算R²值\n",
    "r_squared_train = calc_r_squared(y_train, y_train_pred)\n",
    "r_squared_test = calc_r_squared(y_test, y_test_pred)\n",
    "\n",
    "# 计算使用的特征数量（非零系数）\n",
    "num_features = sum(c != 0 for c in elastic_net_best.coef_)\n",
    "\n",
    "# 样本数量\n",
    "n_train = X_train.shape[0]\n",
    "n_test = X_test.shape[0]\n",
    "\n",
    "# 计算校正后的R²\n",
    "adj_r_squared_train = adjusted_r_squared(r_squared_train, n_train, num_features)\n",
    "adj_r_squared_test = adjusted_r_squared(r_squared_test, n_test, num_features)\n",
    "\n",
    "print(f'Adjusted R² (Training): {adj_r_squared_train}')\n",
    "print(f'Adjusted R² (Testing): {adj_r_squared_test}')\n"
   ]
  },
  {
   "cell_type": "code",
   "execution_count": 4,
   "id": "2bd499ca",
   "metadata": {},
   "outputs": [
    {
     "data": {
      "text/plain": [
       "12"
      ]
     },
     "execution_count": 4,
     "metadata": {},
     "output_type": "execute_result"
    }
   ],
   "source": [
    "num_features"
   ]
  },
  {
   "cell_type": "code",
   "execution_count": 5,
   "id": "70d61480",
   "metadata": {},
   "outputs": [
    {
     "data": {
      "text/plain": [
       "0.6181211423468209"
      ]
     },
     "execution_count": 5,
     "metadata": {},
     "output_type": "execute_result"
    }
   ],
   "source": [
    "r_squared_train"
   ]
  },
  {
   "cell_type": "code",
   "execution_count": 6,
   "id": "33fbc529",
   "metadata": {},
   "outputs": [
    {
     "data": {
      "text/plain": [
       "0.6565037695626632"
      ]
     },
     "execution_count": 6,
     "metadata": {},
     "output_type": "execute_result"
    }
   ],
   "source": [
    "r_squared_test"
   ]
  },
  {
   "cell_type": "code",
   "execution_count": 7,
   "id": "0f4b2f70",
   "metadata": {},
   "outputs": [
    {
     "data": {
      "text/plain": [
       "0.05"
      ]
     },
     "execution_count": 7,
     "metadata": {},
     "output_type": "execute_result"
    }
   ],
   "source": [
    "best_alpha\n"
   ]
  },
  {
   "cell_type": "code",
   "execution_count": 8,
   "id": "1cd70f61",
   "metadata": {},
   "outputs": [
    {
     "data": {
      "text/plain": [
       "0.7"
      ]
     },
     "execution_count": 8,
     "metadata": {},
     "output_type": "execute_result"
    }
   ],
   "source": [
    "best_l1_ratio"
   ]
  },
  {
   "cell_type": "code",
   "execution_count": 10,
   "id": "1c79a888",
   "metadata": {},
   "outputs": [
    {
     "name": "stdout",
     "output_type": "stream",
     "text": [
      "10次交叉验证的RMSE： [0.92818117 0.898699   0.80032057 0.6713866  0.87850651 0.74738106\n",
      " 0.90799096 1.03568665 0.76611201 0.83646614]\n",
      "平均RMSE： 0.8470730671572697\n"
     ]
    }
   ],
   "source": [
    "from sklearn.model_selection import cross_val_score\n",
    "import numpy as np\n",
    "from sklearn.model_selection import KFold\n",
    "\n",
    "kf = KFold(n_splits=10, shuffle=True, random_state=99)\n",
    "# 执行5次交叉验证\n",
    "mse_scores = cross_val_score(elastic_net_best, X_train, y_train, scoring='neg_mean_squared_error', cv=kf)\n",
    "\n",
    "# 将负MSE转换为RMSE\n",
    "rmse_scores = np.sqrt(-mse_scores)\n",
    "\n",
    "# 输出每次交叉验证的RMSE\n",
    "print(\"10次交叉验证的RMSE：\", rmse_scores)\n",
    "\n",
    "# 输出5次交叉验证的平均RMSE\n",
    "print(\"平均RMSE：\", np.mean(rmse_scores))"
   ]
  },
  {
   "cell_type": "code",
   "execution_count": null,
   "id": "b0f0449e",
   "metadata": {},
   "outputs": [],
   "source": []
  }
 ],
 "metadata": {
  "kernelspec": {
   "display_name": "Python 3 (ipykernel)",
   "language": "python",
   "name": "python3"
  },
  "language_info": {
   "codemirror_mode": {
    "name": "ipython",
    "version": 3
   },
   "file_extension": ".py",
   "mimetype": "text/x-python",
   "name": "python",
   "nbconvert_exporter": "python",
   "pygments_lexer": "ipython3",
   "version": "3.11.4"
  }
 },
 "nbformat": 4,
 "nbformat_minor": 5
}
